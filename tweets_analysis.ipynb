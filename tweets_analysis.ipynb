{
  "cells": [
    {
      "cell_type": "markdown",
      "metadata": {
        "id": "view-in-github",
        "colab_type": "text"
      },
      "source": [
        "<a href=\"https://colab.research.google.com/github/ArTeDS/Sentiment-Analysis-on-Streaming-Covid_19-Tweets/blob/main/tweets_analysis.ipynb\" target=\"_parent\"><img src=\"https://colab.research.google.com/assets/colab-badge.svg\" alt=\"Open In Colab\"/></a>"
      ]
    },
    {
      "cell_type": "markdown",
      "id": "992ab113-27a5-4607-a453-4ea26802380c",
      "metadata": {
        "id": "992ab113-27a5-4607-a453-4ea26802380c"
      },
      "source": [
        "## Load and Preprocess Data"
      ]
    },
    {
      "cell_type": "code",
      "execution_count": null,
      "id": "04229442-2043-426e-ad24-11d00501087a",
      "metadata": {
        "id": "04229442-2043-426e-ad24-11d00501087a",
        "outputId": "433e542a-f03b-42fd-bc52-4d43bbf9ca96"
      },
      "outputs": [
        {
          "data": {
            "text/html": [
              "<div>\n",
              "<style scoped>\n",
              "    .dataframe tbody tr th:only-of-type {\n",
              "        vertical-align: middle;\n",
              "    }\n",
              "\n",
              "    .dataframe tbody tr th {\n",
              "        vertical-align: top;\n",
              "    }\n",
              "\n",
              "    .dataframe thead th {\n",
              "        text-align: right;\n",
              "    }\n",
              "</style>\n",
              "<table border=\"1\" class=\"dataframe\">\n",
              "  <thead>\n",
              "    <tr style=\"text-align: right;\">\n",
              "      <th></th>\n",
              "      <th>word</th>\n",
              "      <th>polarity</th>\n",
              "      <th>subjectivity</th>\n",
              "    </tr>\n",
              "  </thead>\n",
              "  <tbody>\n",
              "    <tr>\n",
              "      <th>0</th>\n",
              "      <td></td>\n",
              "      <td>0.0</td>\n",
              "      <td>0.0</td>\n",
              "    </tr>\n",
              "    <tr>\n",
              "      <th>1</th>\n",
              "      <td>One of the weird things over the last few ye...</td>\n",
              "      <td>-0.09</td>\n",
              "      <td>0.30333333333333334</td>\n",
              "    </tr>\n",
              "    <tr>\n",
              "      <th>2</th>\n",
              "      <td>Petition Do not make COVID vaccination a requi...</td>\n",
              "      <td>0.03333333333333333</td>\n",
              "      <td>0.06666666666666667</td>\n",
              "    </tr>\n",
              "    <tr>\n",
              "      <th>3</th>\n",
              "      <td>If you go to the South they have been over C...</td>\n",
              "      <td>0.35</td>\n",
              "      <td>0.55</td>\n",
              "    </tr>\n",
              "    <tr>\n",
              "      <th>4</th>\n",
              "      <td>If you go to the South they have been over C...</td>\n",
              "      <td>0.35</td>\n",
              "      <td>0.55</td>\n",
              "    </tr>\n",
              "    <tr>\n",
              "      <th>...</th>\n",
              "      <td>...</td>\n",
              "      <td>...</td>\n",
              "      <td>...</td>\n",
              "    </tr>\n",
              "    <tr>\n",
              "      <th>43161</th>\n",
              "      <td>Almost 2000 people a week are dying with cov...</td>\n",
              "      <td>0.0</td>\n",
              "      <td>0.0</td>\n",
              "    </tr>\n",
              "    <tr>\n",
              "      <th>43162</th>\n",
              "      <td>Spain has some of the most beautiful horse's â...</td>\n",
              "      <td>0.675</td>\n",
              "      <td>0.75</td>\n",
              "    </tr>\n",
              "    <tr>\n",
              "      <th>43163</th>\n",
              "      <td>- Claim pandemic is over</td>\n",
              "      <td>0.0</td>\n",
              "      <td>0.0</td>\n",
              "    </tr>\n",
              "    <tr>\n",
              "      <th>43164</th>\n",
              "      <td>âš½ï¸� In game fatigue</td>\n",
              "      <td>-0.4</td>\n",
              "      <td>0.4</td>\n",
              "    </tr>\n",
              "    <tr>\n",
              "      <th>43165</th>\n",
              "      <td>COVID related (19)</td>\n",
              "      <td>0.0</td>\n",
              "      <td>0.4</td>\n",
              "    </tr>\n",
              "  </tbody>\n",
              "</table>\n",
              "<p>43166 rows × 3 columns</p>\n",
              "</div>"
            ],
            "text/plain": [
              "                                                    word             polarity  \\\n",
              "0                                                                         0.0   \n",
              "1        One of the weird things over the last few ye...                -0.09   \n",
              "2      Petition Do not make COVID vaccination a requi...  0.03333333333333333   \n",
              "3        If you go to the South they have been over C...                 0.35   \n",
              "4        If you go to the South they have been over C...                 0.35   \n",
              "...                                                  ...                  ...   \n",
              "43161    Almost 2000 people a week are dying with cov...                  0.0   \n",
              "43162  Spain has some of the most beautiful horse's â...                0.675   \n",
              "43163                           - Claim pandemic is over                  0.0   \n",
              "43164                            âš½ï¸� In game fatigue                  -0.4   \n",
              "43165                                 COVID related (19)                  0.0   \n",
              "\n",
              "              subjectivity  \n",
              "0                      0.0  \n",
              "1      0.30333333333333334  \n",
              "2      0.06666666666666667  \n",
              "3                     0.55  \n",
              "4                     0.55  \n",
              "...                    ...  \n",
              "43161                  0.0  \n",
              "43162                 0.75  \n",
              "43163                  0.0  \n",
              "43164                  0.4  \n",
              "43165                  0.4  \n",
              "\n",
              "[43166 rows x 3 columns]"
            ]
          },
          "execution_count": 1,
          "metadata": {},
          "output_type": "execute_result"
        }
      ],
      "source": [
        "# laod the parquet files into a dataframe\n",
        "#! pip install pyarrow\n",
        "import pandas as pd\n",
        "parguet_file = r'C:\\Data Science\\MSc Data Science\\Big Data Management and Processing\\Project\\Twitter_Streaming_Sentiment_Analysis\\parquet'\n",
        "df=pd.read_parquet(parguet_file, engine='auto')\n",
        "df"
      ]
    },
    {
      "cell_type": "code",
      "execution_count": null,
      "id": "538ea61f-513a-450f-8de6-3401e8b031d5",
      "metadata": {
        "id": "538ea61f-513a-450f-8de6-3401e8b031d5",
        "outputId": "637ddc3b-5a78-4a7e-cf73-a64b47570906"
      },
      "outputs": [
        {
          "name": "stdout",
          "output_type": "stream",
          "text": [
            "20806\n"
          ]
        }
      ],
      "source": [
        "# drop duplicates - retweets\n",
        "df.drop_duplicates(inplace=True)\n",
        "df.reset_index(drop=True, inplace=True)\n",
        "print(len(df))"
      ]
    },
    {
      "cell_type": "code",
      "execution_count": null,
      "id": "50125e17-f686-47a2-b299-13f82cab1477",
      "metadata": {
        "id": "50125e17-f686-47a2-b299-13f82cab1477"
      },
      "outputs": [],
      "source": [
        "df['polarity'] = df['polarity'].astype(float)\n",
        "df['subjectivity'] = df['subjectivity'].astype(float)"
      ]
    },
    {
      "cell_type": "code",
      "execution_count": null,
      "id": "7ef0e0e3-7c44-4115-aed1-f3bef009af49",
      "metadata": {
        "id": "7ef0e0e3-7c44-4115-aed1-f3bef009af49"
      },
      "outputs": [],
      "source": [
        "# setting labels for the polarity\n",
        "df['polarity_measure'] = ['positive' if score > 0 \n",
        "                          else 'negative' if score < 0 \n",
        "                              else 'neutral' \n",
        "                                  for score in df.polarity]\n",
        "\n",
        "# setting labels for the subjectivity\n",
        "df['subjectivity_measure'] = ['highly_objective' if score < 0.1428 \n",
        "                                    else 'objective' if score < 0.2856\n",
        "                                        else 'partially_objective' if score <0.4284\n",
        "                                            else 'neutral' if score < 0.5712\n",
        "                                                else 'partially_subjective' if score < 0.714\n",
        "                                                    else 'subjective' if score < 0.8568\n",
        "                                                        else 'highly_subjective'                                                                               \n",
        "                                                              for score in df.subjectivity]"
      ]
    },
    {
      "cell_type": "markdown",
      "id": "3d2d4627-db8f-4c08-b8b5-ec1ea7ff5dfd",
      "metadata": {
        "id": "3d2d4627-db8f-4c08-b8b5-ec1ea7ff5dfd"
      },
      "source": [
        "### Text Preprocessing"
      ]
    },
    {
      "cell_type": "code",
      "execution_count": null,
      "id": "9d1f0070-1a91-47c5-83c6-80faddc6e8d3",
      "metadata": {
        "id": "9d1f0070-1a91-47c5-83c6-80faddc6e8d3"
      },
      "outputs": [],
      "source": [
        "# Function for text preprocessing\n",
        "\n",
        "# !pip install spacy\n",
        "# !python -m spacy download en_core_web_sm\n",
        "# nltk.download('words')\n",
        "# nltk.download('stopwords')\n",
        "\n",
        "# Function for text preprocessing\n",
        "import string\n",
        "import re\n",
        "import nltk\n",
        "from nltk.corpus import words\n",
        "from nltk.corpus import wordnet\n",
        "from nltk.corpus import stopwords\n",
        "from nltk.stem.snowball import SnowballStemmer\n",
        "import spacy\n",
        "\n",
        "# set puncuation and stopwords into one list\n",
        "punctuation = list(string.punctuation)\n",
        "# punctuation.remove('-')\n",
        "\n",
        "# english stopwords\n",
        "stopwords = nltk.corpus.stopwords.words('english')\n",
        "\n",
        "# load spaCY english language\n",
        "nlp = spacy.load('en_core_web_sm')\n",
        "\n",
        "# Snowball Stemmer\n",
        "stemmer = SnowballStemmer('english')\n",
        "\n",
        "\n",
        "def preprocess(df, s_column, t_column, lemmatize=False, stem=False):\n",
        "    \n",
        "    # df: DataFrame\n",
        "    # s_column: source column. The one that is to be processed\n",
        "    # t_column: target column. The one created with the preprocessed text\n",
        "    \n",
        "    # lowercase\n",
        "    \n",
        "    df[t_column] = df[s_column].str.lower()\n",
        "       \n",
        "     # remove whitespaces\n",
        "    df[t_column] = df[t_column].apply(lambda x : ( re.sub(' +', ' ', x)))\n",
        "    \n",
        "    # remove numbers and words concatenated with numbers IE h4ck3r. Removes road names such as BR-381.\n",
        "    df[t_column] = df[t_column].apply(lambda x : (re.sub(\"\\S*\\d\\S*\",\" \", x)))\n",
        "    \n",
        "    # removes emails and mentions (words with @)\n",
        "    df[t_column] = df[t_column].apply(lambda x : (re.sub(\"\\S*@\\S*\\s?\",\" \", x)))\n",
        "    \n",
        "    # remove url \n",
        "    df[t_column] = df[t_column].apply(lambda x : ( re.sub(r'http\\S+|www.\\S+', r'', x)))\n",
        "    \n",
        "    if lemmatize == True:\n",
        "        df[t_column] = df[t_column].apply(lambda x: ' '.join([w.lemma_ for w in nlp(x)]))\n",
        "    \n",
        "    # remove words with less than 3 letters \n",
        "    df[t_column] = df[t_column].apply(lambda x : (re.sub(r'\\b\\w{1,2}\\b', '', x)))\n",
        "    \n",
        "    # remove noise (e.g. numbers, symbols)\n",
        "    #df[t_column] = df[t_column].apply(lambda x : (re.sub('[^a-z\\s]', ' ',x)))\n",
        "    \n",
        "    # remove punctuation\n",
        "    df[t_column] = df[t_column].apply(lambda x: ''.join([word for word in x if word not in (punctuation)]))\n",
        "    \n",
        "    # remove words with 14 or more letters\n",
        "    df[t_column] = df[t_column].apply(lambda x : (re.sub(r'\\b\\w{14,1000}\\b', '', x)))\n",
        "    \n",
        "        \n",
        "    # stem every word\n",
        "    if stem == True:\n",
        "        # remove stopwords\n",
        "        df[t_column] = df[t_column].apply(lambda x: ([word for word in x.split() if word not in (stopwords)]))\n",
        "        \n",
        "        # stemmer\n",
        "        df[t_column] = df[t_column].apply(lambda x: ', '.join([stemmer.stem(y) for y in x])) \n",
        "    \n",
        "    else:\n",
        "        # remove stopwords\n",
        "        df[t_column] = df[t_column].apply(lambda x: ', '.join([word for word in x.split() if word not in (stopwords)]))\n",
        "        \n",
        "    return df\n",
        "    "
      ]
    },
    {
      "cell_type": "code",
      "execution_count": null,
      "id": "0ac79252-88de-49f2-b276-c8ec4b064fd9",
      "metadata": {
        "id": "0ac79252-88de-49f2-b276-c8ec4b064fd9",
        "outputId": "e2b2a5e5-48a5-44ab-d57f-2dd1d457b1db"
      },
      "outputs": [
        {
          "data": {
            "text/html": [
              "<div>\n",
              "<style scoped>\n",
              "    .dataframe tbody tr th:only-of-type {\n",
              "        vertical-align: middle;\n",
              "    }\n",
              "\n",
              "    .dataframe tbody tr th {\n",
              "        vertical-align: top;\n",
              "    }\n",
              "\n",
              "    .dataframe thead th {\n",
              "        text-align: right;\n",
              "    }\n",
              "</style>\n",
              "<table border=\"1\" class=\"dataframe\">\n",
              "  <thead>\n",
              "    <tr style=\"text-align: right;\">\n",
              "      <th></th>\n",
              "      <th>word</th>\n",
              "      <th>polarity</th>\n",
              "      <th>subjectivity</th>\n",
              "      <th>polarity_measure</th>\n",
              "      <th>subjectivity_measure</th>\n",
              "      <th>tokens</th>\n",
              "    </tr>\n",
              "  </thead>\n",
              "  <tbody>\n",
              "    <tr>\n",
              "      <th>0</th>\n",
              "      <td></td>\n",
              "      <td>0.000000</td>\n",
              "      <td>0.000000</td>\n",
              "      <td>neutral</td>\n",
              "      <td>highly_objective</td>\n",
              "      <td></td>\n",
              "    </tr>\n",
              "    <tr>\n",
              "      <th>1</th>\n",
              "      <td>One of the weird things over the last few ye...</td>\n",
              "      <td>-0.090000</td>\n",
              "      <td>0.303333</td>\n",
              "      <td>negative</td>\n",
              "      <td>partially_objective</td>\n",
              "      <td>one, weird, thing, last, year, people, consist...</td>\n",
              "    </tr>\n",
              "    <tr>\n",
              "      <th>2</th>\n",
              "      <td>Petition Do not make COVID vaccination a requi...</td>\n",
              "      <td>0.033333</td>\n",
              "      <td>0.066667</td>\n",
              "      <td>positive</td>\n",
              "      <td>highly_objective</td>\n",
              "      <td>petition, make, covid, vaccination, requiremen...</td>\n",
              "    </tr>\n",
              "    <tr>\n",
              "      <th>3</th>\n",
              "      <td>If you go to the South they have been over C...</td>\n",
              "      <td>0.350000</td>\n",
              "      <td>0.550000</td>\n",
              "      <td>positive</td>\n",
              "      <td>neutral</td>\n",
              "      <td>south, covid, like, full, year</td>\n",
              "    </tr>\n",
              "    <tr>\n",
              "      <th>4</th>\n",
              "      <td>The bullshitandspin machine is off the scale...</td>\n",
              "      <td>0.000000</td>\n",
              "      <td>0.000000</td>\n",
              "      <td>neutral</td>\n",
              "      <td>highly_objective</td>\n",
              "      <td>machine, scale</td>\n",
              "    </tr>\n",
              "    <tr>\n",
              "      <th>...</th>\n",
              "      <td>...</td>\n",
              "      <td>...</td>\n",
              "      <td>...</td>\n",
              "      <td>...</td>\n",
              "      <td>...</td>\n",
              "      <td>...</td>\n",
              "    </tr>\n",
              "    <tr>\n",
              "      <th>20801</th>\n",
              "      <td>Boris said 'Let the bodies pile high'! - and t...</td>\n",
              "      <td>0.250000</td>\n",
              "      <td>0.540000</td>\n",
              "      <td>positive</td>\n",
              "      <td>neutral</td>\n",
              "      <td>boris, say, let, body, pile, high</td>\n",
              "    </tr>\n",
              "    <tr>\n",
              "      <th>20802</th>\n",
              "      <td>Almost 2000 people a week are dying with cov...</td>\n",
              "      <td>0.000000</td>\n",
              "      <td>0.000000</td>\n",
              "      <td>neutral</td>\n",
              "      <td>highly_objective</td>\n",
              "      <td>almost, people, week, die, covid</td>\n",
              "    </tr>\n",
              "    <tr>\n",
              "      <th>20803</th>\n",
              "      <td>Spain has some of the most beautiful horse's â...</td>\n",
              "      <td>0.675000</td>\n",
              "      <td>0.750000</td>\n",
              "      <td>positive</td>\n",
              "      <td>subjective</td>\n",
              "      <td>spain, beautiful, horse, �, ¤¸, �</td>\n",
              "    </tr>\n",
              "    <tr>\n",
              "      <th>20804</th>\n",
              "      <td>âš½ï¸� In game fatigue</td>\n",
              "      <td>-0.400000</td>\n",
              "      <td>0.400000</td>\n",
              "      <td>negative</td>\n",
              "      <td>partially_objective</td>\n",
              "      <td>âš½ï¸, �, game, fatigue</td>\n",
              "    </tr>\n",
              "    <tr>\n",
              "      <th>20805</th>\n",
              "      <td>COVID related (19)</td>\n",
              "      <td>0.000000</td>\n",
              "      <td>0.400000</td>\n",
              "      <td>neutral</td>\n",
              "      <td>partially_objective</td>\n",
              "      <td>covid, related</td>\n",
              "    </tr>\n",
              "  </tbody>\n",
              "</table>\n",
              "<p>20806 rows × 6 columns</p>\n",
              "</div>"
            ],
            "text/plain": [
              "                                                    word  polarity  \\\n",
              "0                                                         0.000000   \n",
              "1        One of the weird things over the last few ye... -0.090000   \n",
              "2      Petition Do not make COVID vaccination a requi...  0.033333   \n",
              "3        If you go to the South they have been over C...  0.350000   \n",
              "4        The bullshitandspin machine is off the scale...  0.000000   \n",
              "...                                                  ...       ...   \n",
              "20801  Boris said 'Let the bodies pile high'! - and t...  0.250000   \n",
              "20802    Almost 2000 people a week are dying with cov...  0.000000   \n",
              "20803  Spain has some of the most beautiful horse's â...  0.675000   \n",
              "20804                            âš½ï¸� In game fatigue  -0.400000   \n",
              "20805                                 COVID related (19)  0.000000   \n",
              "\n",
              "       subjectivity polarity_measure subjectivity_measure  \\\n",
              "0          0.000000          neutral     highly_objective   \n",
              "1          0.303333         negative  partially_objective   \n",
              "2          0.066667         positive     highly_objective   \n",
              "3          0.550000         positive              neutral   \n",
              "4          0.000000          neutral     highly_objective   \n",
              "...             ...              ...                  ...   \n",
              "20801      0.540000         positive              neutral   \n",
              "20802      0.000000          neutral     highly_objective   \n",
              "20803      0.750000         positive           subjective   \n",
              "20804      0.400000         negative  partially_objective   \n",
              "20805      0.400000          neutral  partially_objective   \n",
              "\n",
              "                                                  tokens  \n",
              "0                                                         \n",
              "1      one, weird, thing, last, year, people, consist...  \n",
              "2      petition, make, covid, vaccination, requiremen...  \n",
              "3                         south, covid, like, full, year  \n",
              "4                                         machine, scale  \n",
              "...                                                  ...  \n",
              "20801                  boris, say, let, body, pile, high  \n",
              "20802                   almost, people, week, die, covid  \n",
              "20803                  spain, beautiful, horse, �, ¤¸, �  \n",
              "20804                            âš½ï¸, �, game, fatigue  \n",
              "20805                                     covid, related  \n",
              "\n",
              "[20806 rows x 6 columns]"
            ]
          },
          "execution_count": 6,
          "metadata": {},
          "output_type": "execute_result"
        }
      ],
      "source": [
        "preprocess(df, 'word', 'tokens', lemmatize=True)"
      ]
    },
    {
      "cell_type": "markdown",
      "id": "2e8dd9b5-aa00-4249-ab29-dfc12bc3417a",
      "metadata": {
        "id": "2e8dd9b5-aa00-4249-ab29-dfc12bc3417a"
      },
      "source": [
        "## Predictions for tweets containing real and fake news regarding Covid-19"
      ]
    },
    {
      "cell_type": "code",
      "execution_count": null,
      "id": "c7f12d34-d0f0-4dd1-99f6-52a792aba435",
      "metadata": {
        "id": "c7f12d34-d0f0-4dd1-99f6-52a792aba435"
      },
      "outputs": [],
      "source": [
        "# Load the pretrained model for identifying which of the tweets contain real news and fake news about covid19\n",
        "import joblib\n",
        "MNB_Covid_Tweets_Real_Fake = joblib.load('MNB_Covid_Tweets_Real_Fake.pkl')"
      ]
    },
    {
      "cell_type": "code",
      "execution_count": null,
      "id": "405304d7-49ab-45ba-ae50-cb8b8696582b",
      "metadata": {
        "id": "405304d7-49ab-45ba-ae50-cb8b8696582b",
        "outputId": "8a4ab835-befe-492a-ba6a-5883b8057b3b"
      },
      "outputs": [
        {
          "name": "stdout",
          "output_type": "stream",
          "text": [
            "20806\n"
          ]
        }
      ],
      "source": [
        "# Use the loaded model to make predictions\n",
        "y_pred = MNB_Covid_Tweets_Real_Fake.predict(df.tokens)\n",
        "print(len(y_pred))"
      ]
    },
    {
      "cell_type": "code",
      "execution_count": null,
      "id": "ddc9148c-c9fc-4fb3-a29f-7d2fb09f91f1",
      "metadata": {
        "id": "ddc9148c-c9fc-4fb3-a29f-7d2fb09f91f1",
        "outputId": "033e4749-60aa-4ddf-b6b5-d03fdd95f018"
      },
      "outputs": [
        {
          "data": {
            "text/html": [
              "<div>\n",
              "<style scoped>\n",
              "    .dataframe tbody tr th:only-of-type {\n",
              "        vertical-align: middle;\n",
              "    }\n",
              "\n",
              "    .dataframe tbody tr th {\n",
              "        vertical-align: top;\n",
              "    }\n",
              "\n",
              "    .dataframe thead th {\n",
              "        text-align: right;\n",
              "    }\n",
              "</style>\n",
              "<table border=\"1\" class=\"dataframe\">\n",
              "  <thead>\n",
              "    <tr style=\"text-align: right;\">\n",
              "      <th></th>\n",
              "      <th>word</th>\n",
              "      <th>polarity</th>\n",
              "      <th>subjectivity</th>\n",
              "      <th>polarity_measure</th>\n",
              "      <th>subjectivity_measure</th>\n",
              "      <th>tokens</th>\n",
              "      <th>real_fake_label</th>\n",
              "    </tr>\n",
              "  </thead>\n",
              "  <tbody>\n",
              "    <tr>\n",
              "      <th>0</th>\n",
              "      <td></td>\n",
              "      <td>0.000000</td>\n",
              "      <td>0.000000</td>\n",
              "      <td>neutral</td>\n",
              "      <td>highly_objective</td>\n",
              "      <td></td>\n",
              "      <td>fake</td>\n",
              "    </tr>\n",
              "    <tr>\n",
              "      <th>1</th>\n",
              "      <td>One of the weird things over the last few ye...</td>\n",
              "      <td>-0.090000</td>\n",
              "      <td>0.303333</td>\n",
              "      <td>negative</td>\n",
              "      <td>partially_objective</td>\n",
              "      <td>one, weird, thing, last, year, people, consist...</td>\n",
              "      <td>fake</td>\n",
              "    </tr>\n",
              "    <tr>\n",
              "      <th>2</th>\n",
              "      <td>Petition Do not make COVID vaccination a requi...</td>\n",
              "      <td>0.033333</td>\n",
              "      <td>0.066667</td>\n",
              "      <td>positive</td>\n",
              "      <td>highly_objective</td>\n",
              "      <td>petition, make, covid, vaccination, requiremen...</td>\n",
              "      <td>real</td>\n",
              "    </tr>\n",
              "    <tr>\n",
              "      <th>3</th>\n",
              "      <td>If you go to the South they have been over C...</td>\n",
              "      <td>0.350000</td>\n",
              "      <td>0.550000</td>\n",
              "      <td>positive</td>\n",
              "      <td>neutral</td>\n",
              "      <td>south, covid, like, full, year</td>\n",
              "      <td>real</td>\n",
              "    </tr>\n",
              "    <tr>\n",
              "      <th>4</th>\n",
              "      <td>The bullshitandspin machine is off the scale...</td>\n",
              "      <td>0.000000</td>\n",
              "      <td>0.000000</td>\n",
              "      <td>neutral</td>\n",
              "      <td>highly_objective</td>\n",
              "      <td>machine, scale</td>\n",
              "      <td>real</td>\n",
              "    </tr>\n",
              "  </tbody>\n",
              "</table>\n",
              "</div>"
            ],
            "text/plain": [
              "                                                word  polarity  subjectivity  \\\n",
              "0                                                     0.000000      0.000000   \n",
              "1    One of the weird things over the last few ye... -0.090000      0.303333   \n",
              "2  Petition Do not make COVID vaccination a requi...  0.033333      0.066667   \n",
              "3    If you go to the South they have been over C...  0.350000      0.550000   \n",
              "4    The bullshitandspin machine is off the scale...  0.000000      0.000000   \n",
              "\n",
              "  polarity_measure subjectivity_measure  \\\n",
              "0          neutral     highly_objective   \n",
              "1         negative  partially_objective   \n",
              "2         positive     highly_objective   \n",
              "3         positive              neutral   \n",
              "4          neutral     highly_objective   \n",
              "\n",
              "                                              tokens real_fake_label  \n",
              "0                                                               fake  \n",
              "1  one, weird, thing, last, year, people, consist...            fake  \n",
              "2  petition, make, covid, vaccination, requiremen...            real  \n",
              "3                     south, covid, like, full, year            real  \n",
              "4                                     machine, scale            real  "
            ]
          },
          "execution_count": 9,
          "metadata": {},
          "output_type": "execute_result"
        }
      ],
      "source": [
        "# add a column witht the predictions on the dataframe\n",
        "df['real_fake'] = y_pred\n",
        "\n",
        "# create column with string labels for real and fake news\n",
        "label = {0: 'fake',\n",
        "         1: 'real'}\n",
        "\n",
        "df['real_fake_label'] = df['real_fake'].map(label)\n",
        "\n",
        "# drop boolean labels\n",
        "df.drop(columns='real_fake', inplace=True)\n",
        "df.head(5)"
      ]
    },
    {
      "cell_type": "markdown",
      "id": "ca4cc912-fd58-4cae-98fb-308f3b23cbc1",
      "metadata": {
        "id": "ca4cc912-fd58-4cae-98fb-308f3b23cbc1"
      },
      "source": [
        "## Data Analysis\n",
        "\n",
        "### Real and Fake News"
      ]
    },
    {
      "cell_type": "code",
      "execution_count": null,
      "id": "88b7f733-43eb-49bb-b004-d8ab02c9992b",
      "metadata": {
        "id": "88b7f733-43eb-49bb-b004-d8ab02c9992b",
        "outputId": "61beee17-b892-4ce5-bed6-4f60dc5c2415"
      },
      "outputs": [
        {
          "data": {
            "text/plain": [
              "fake    13839\n",
              "real     6967\n",
              "Name: real_fake_label, dtype: int64"
            ]
          },
          "execution_count": 10,
          "metadata": {},
          "output_type": "execute_result"
        }
      ],
      "source": [
        "df.real_fake_label.value_counts()"
      ]
    },
    {
      "cell_type": "code",
      "execution_count": null,
      "id": "0ba85df0-c1fd-4df3-9a36-f9e6e46cacd7",
      "metadata": {
        "id": "0ba85df0-c1fd-4df3-9a36-f9e6e46cacd7",
        "outputId": "8672c339-b3d4-468c-850e-d9147734c132"
      },
      "outputs": [
        {
          "data": {
            "image/png": "[encoded data removed]",
            "text/plain": [
              "<Figure size 600x400 with 2 Axes>"
            ]
          },
          "metadata": {},
          "output_type": "display_data"
        }
      ],
      "source": [
        "# plot labels count\n",
        "import matplotlib.pyplot as plt\n",
        "import seaborn as sns\n",
        "sns.set(style=\"whitegrid\")\n",
        "fig, axes = plt.subplots(ncols=2, \n",
        "                         nrows=1, \n",
        "                         figsize=(6, 4), \n",
        "                         dpi=100)\n",
        "fig.subplots_adjust(top=0.9, wspace=0.25)\n",
        "\n",
        "g = sns.countplot(x=df['real_fake_label'], ax=axes[0])  \n",
        "             #order=['real', 'fake'])\n",
        "\n",
        "labels=['fake', 'real']\n",
        "\n",
        "# add annotations to bar chart\n",
        "for bar in g.patches:\n",
        "    g.annotate(format(bar.get_height(), '.0f'),  # the number before f represents the decimals \n",
        "                   (bar.get_x() + bar.get_width() / 2,  \n",
        "                    bar.get_height()), ha='center', va='center', \n",
        "                   size=10, xytext=(0, -12), \n",
        "                   textcoords='offset points')\n",
        "\n",
        "axes[1].pie(df['real_fake_label'].value_counts(),\n",
        "            labels=labels,\n",
        "            autopct='%1.0f%%',\n",
        "            shadow=True,\n",
        "            startangle=90,\n",
        "            explode = (0.05, 0.05))\n",
        "\n",
        "plt.tick_params(direction='out', axis='x', labelsize=20, length=6, width=2, grid_alpha=0.5)\n",
        "plt.xlabel('count',size=0) \n",
        "plt.ylabel('', size=0) \n",
        "\n",
        "sns.color_palette(\"pastel\")\n",
        " \n",
        "fig.suptitle('Count of Tweets with Fake and Real News about Covid-19', fontsize=12)\n",
        "plt.show()"
      ]
    },
    {
      "cell_type": "markdown",
      "id": "5d30aecc-7b46-4106-aa41-98b68ab5d339",
      "metadata": {
        "tags": [],
        "id": "5d30aecc-7b46-4106-aa41-98b68ab5d339"
      },
      "source": [
        "### Polarity and Subjectivity\n",
        "\n",
        "The polarity score is a float within the range **[-1.0, 1.0]**.  \n",
        "The subjectivity is a float within the range **[0.0, 1.0]** where 0.0 is very objective and 1.0 is very subjective.  \n",
        "Let’s use this now to get the sentiment polarity and labels for each news article and aggregate the summary statistics per news category.  \n",
        "\n",
        "<br>\n",
        "\n",
        "Subjectivity quantifies the amount of personal opinion and factual information contained in the text. The higher subjectivity means that the text contains personal opinion rather than factual information. "
      ]
    },
    {
      "cell_type": "code",
      "execution_count": null,
      "id": "97b4fc1c-7397-4969-9070-2e4f3edd48f0",
      "metadata": {
        "id": "97b4fc1c-7397-4969-9070-2e4f3edd48f0",
        "outputId": "ff2e295b-34af-43c2-ae71-de5d7bf500a9"
      },
      "outputs": [
        {
          "data": {
            "text/plain": [
              "subjectivity_measure\n",
              "highly_objective        8922\n",
              "highly_subjective       1474\n",
              "neutral                 3411\n",
              "objective               1230\n",
              "partially_objective     2560\n",
              "partially_subjective    2009\n",
              "subjective              1200\n",
              "dtype: int64"
            ]
          },
          "execution_count": 12,
          "metadata": {},
          "output_type": "execute_result"
        }
      ],
      "source": [
        "df.groupby('subjectivity_measure').size()"
      ]
    },
    {
      "cell_type": "code",
      "execution_count": null,
      "id": "73ec28b1-c9e0-4291-b230-0c75708ac76a",
      "metadata": {
        "id": "73ec28b1-c9e0-4291-b230-0c75708ac76a",
        "outputId": "42de7e27-e6c7-4485-8db9-486df178923f"
      },
      "outputs": [
        {
          "data": {
            "text/plain": [
              "highly_objective        8922\n",
              "neutral                 3411\n",
              "partially_objective     2560\n",
              "partially_subjective    2009\n",
              "highly_subjective       1474\n",
              "objective               1230\n",
              "subjective              1200\n",
              "Name: subjectivity_measure, dtype: int64"
            ]
          },
          "execution_count": 13,
          "metadata": {},
          "output_type": "execute_result"
        }
      ],
      "source": [
        "df.subjectivity_measure.value_counts()"
      ]
    },
    {
      "cell_type": "code",
      "execution_count": null,
      "id": "0490581f-a016-4996-9550-2df1e393d447",
      "metadata": {
        "id": "0490581f-a016-4996-9550-2df1e393d447",
        "outputId": "ea4bd80c-9c9b-4ef4-fa3f-c4fa20ef1e13"
      },
      "outputs": [
        {
          "data": {
            "text/plain": [
              "Text(0, 0.5, '')"
            ]
          },
          "execution_count": 17,
          "metadata": {},
          "output_type": "execute_result"
        },
        {
          "data": {
            "image/png": "[encoded data removed]",
            "text/plain": [
              "<Figure size 648x432 with 1 Axes>"
            ]
          },
          "metadata": {},
          "output_type": "display_data"
        }
      ],
      "source": [
        "import seaborn as sns\n",
        "import matplotlib.pyplot as plt\n",
        "\n",
        "\n",
        "fig = plt.figure(figsize = (9,6))\n",
        "# Ploting the Subjectivity Measure\n",
        "g = sns.barplot(x=df.groupby('subjectivity_measure').size().sort_values(ascending=False).values, \n",
        "                    y=df.groupby('subjectivity_measure').size().sort_values(ascending=False).index,\n",
        "                    )\n",
        "# annotations\n",
        "for bar in g.patches:\n",
        "    g.annotate(format(bar.get_width(), '.0f'), xy=(bar.get_width(), bar.get_y()+bar.get_height()/2),\n",
        "            xytext=(-30, 0), size=12, textcoords='offset points', ha=\"left\", va=\"center\")\n",
        "\n",
        "plt.title('Subjectivity Measure')\n",
        "plt.xlabel('Number of Tweets')\n",
        "plt.ylabel('')"
      ]
    },
    {
      "cell_type": "code",
      "execution_count": null,
      "id": "d1c59588-7cef-4ac5-8daf-df112829fac2",
      "metadata": {
        "id": "d1c59588-7cef-4ac5-8daf-df112829fac2",
        "outputId": "3dd8c2a4-ea68-4459-d4a3-b0df5d2aa071"
      },
      "outputs": [
        {
          "data": {
            "text/plain": [
              "Text(0, 0.5, '')"
            ]
          },
          "execution_count": 15,
          "metadata": {},
          "output_type": "execute_result"
        },
        {
          "data": {
            "image/png": "[encoded data removed]",
            "text/plain": [
              "<Figure size 432x288 with 1 Axes>"
            ]
          },
          "metadata": {},
          "output_type": "display_data"
        }
      ],
      "source": [
        "# ploting the Polarity measure\n",
        "fig = plt.figure(figsize = (6,4))\n",
        "g = sns.barplot(x=df.groupby('polarity_measure').size().sort_values(ascending=False).values, \n",
        "                    y=df.groupby('polarity_measure').size().sort_values(ascending=False).index\n",
        "                    )\n",
        "# annotations\n",
        "for bar in g.patches:\n",
        "    g.annotate(format(bar.get_width(), '.0f'), xy=(bar.get_width(), bar.get_y()+bar.get_height()/2),\n",
        "            xytext=(-30, 0), size=12, textcoords='offset points', ha=\"left\", va=\"center\")\n",
        "    \n",
        "plt.title('Polarity Measure')\n",
        "plt.xlabel('Number of Tweets')\n",
        "plt.ylabel('')"
      ]
    },
    {
      "cell_type": "code",
      "execution_count": null,
      "id": "274aa8e9-544f-4a21-be9e-b9b9e39a8fbf",
      "metadata": {
        "id": "274aa8e9-544f-4a21-be9e-b9b9e39a8fbf"
      },
      "outputs": [],
      "source": [
        ""
      ]
    }
  ],
  "metadata": {
    "kernelspec": {
      "display_name": "Python 3 (ipykernel)",
      "language": "python",
      "name": "python3"
    },
    "language_info": {
      "codemirror_mode": {
        "name": "ipython",
        "version": 3
      },
      "file_extension": ".py",
      "mimetype": "text/x-python",
      "name": "python",
      "nbconvert_exporter": "python",
      "pygments_lexer": "ipython3",
      "version": "3.9.7"
    },
    "colab": {
      "name": "tweets_analysis.ipynb",
      "provenance": [],
      "include_colab_link": true
    }
  },
  "nbformat": 4,
  "nbformat_minor": 5
}