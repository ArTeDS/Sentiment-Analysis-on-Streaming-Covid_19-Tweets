{
  "cells": [
    {
      "cell_type": "markdown",
      "metadata": {
        "id": "view-in-github",
        "colab_type": "text"
      },
      "source": [
        "<a href=\"https://colab.research.google.com/github/ArTeDS/Sentiment-Analysis-on-Streaming-Covid_19-Tweets/blob/main/covid_tweets_real_fake_detection_ML.ipynb\" target=\"_parent\"><img src=\"https://colab.research.google.com/assets/colab-badge.svg\" alt=\"Open In Colab\"/></a>"
      ]
    },
    {
      "cell_type": "code",
      "execution_count": null,
      "metadata": {
        "id": "ZktSOJzmU3ik",
        "outputId": "0653a98f-de26-41d4-deda-4a56563a5b5a"
      },
      "outputs": [
        {
          "data": {
            "text/html": [
              "<div>\n",
              "<style scoped>\n",
              "    .dataframe tbody tr th:only-of-type {\n",
              "        vertical-align: middle;\n",
              "    }\n",
              "\n",
              "    .dataframe tbody tr th {\n",
              "        vertical-align: top;\n",
              "    }\n",
              "\n",
              "    .dataframe thead th {\n",
              "        text-align: right;\n",
              "    }\n",
              "</style>\n",
              "<table border=\"1\" class=\"dataframe\">\n",
              "  <thead>\n",
              "    <tr style=\"text-align: right;\">\n",
              "      <th></th>\n",
              "      <th>id</th>\n",
              "      <th>tweet</th>\n",
              "      <th>label</th>\n",
              "    </tr>\n",
              "  </thead>\n",
              "  <tbody>\n",
              "    <tr>\n",
              "      <th>0</th>\n",
              "      <td>1</td>\n",
              "      <td>The CDC currently reports 99031 deaths. In gen...</td>\n",
              "      <td>real</td>\n",
              "    </tr>\n",
              "    <tr>\n",
              "      <th>1</th>\n",
              "      <td>2</td>\n",
              "      <td>States reported 1121 deaths a small rise from ...</td>\n",
              "      <td>real</td>\n",
              "    </tr>\n",
              "    <tr>\n",
              "      <th>2</th>\n",
              "      <td>3</td>\n",
              "      <td>Politically Correct Woman (Almost) Uses Pandem...</td>\n",
              "      <td>fake</td>\n",
              "    </tr>\n",
              "    <tr>\n",
              "      <th>3</th>\n",
              "      <td>4</td>\n",
              "      <td>#IndiaFightsCorona: We have 1524 #COVID testin...</td>\n",
              "      <td>real</td>\n",
              "    </tr>\n",
              "    <tr>\n",
              "      <th>4</th>\n",
              "      <td>5</td>\n",
              "      <td>Populous states can generate large case counts...</td>\n",
              "      <td>real</td>\n",
              "    </tr>\n",
              "    <tr>\n",
              "      <th>...</th>\n",
              "      <td>...</td>\n",
              "      <td>...</td>\n",
              "      <td>...</td>\n",
              "    </tr>\n",
              "    <tr>\n",
              "      <th>6415</th>\n",
              "      <td>6416</td>\n",
              "      <td>A tiger tested positive for COVID-19 please st...</td>\n",
              "      <td>fake</td>\n",
              "    </tr>\n",
              "    <tr>\n",
              "      <th>6416</th>\n",
              "      <td>6417</td>\n",
              "      <td>???Autopsies prove that COVID-19 is??� a blood...</td>\n",
              "      <td>fake</td>\n",
              "    </tr>\n",
              "    <tr>\n",
              "      <th>6417</th>\n",
              "      <td>6418</td>\n",
              "      <td>_A post claims a COVID-19 vaccine has already ...</td>\n",
              "      <td>fake</td>\n",
              "    </tr>\n",
              "    <tr>\n",
              "      <th>6418</th>\n",
              "      <td>6419</td>\n",
              "      <td>Aamir Khan Donate 250 Cr. In PM Relief Cares Fund</td>\n",
              "      <td>fake</td>\n",
              "    </tr>\n",
              "    <tr>\n",
              "      <th>6419</th>\n",
              "      <td>6420</td>\n",
              "      <td>It has been 93 days since the last case of COV...</td>\n",
              "      <td>real</td>\n",
              "    </tr>\n",
              "  </tbody>\n",
              "</table>\n",
              "<p>6420 rows × 3 columns</p>\n",
              "</div>"
            ],
            "text/plain": [
              "        id                                              tweet label\n",
              "0        1  The CDC currently reports 99031 deaths. In gen...  real\n",
              "1        2  States reported 1121 deaths a small rise from ...  real\n",
              "2        3  Politically Correct Woman (Almost) Uses Pandem...  fake\n",
              "3        4  #IndiaFightsCorona: We have 1524 #COVID testin...  real\n",
              "4        5  Populous states can generate large case counts...  real\n",
              "...    ...                                                ...   ...\n",
              "6415  6416  A tiger tested positive for COVID-19 please st...  fake\n",
              "6416  6417  ???Autopsies prove that COVID-19 is??� a blood...  fake\n",
              "6417  6418  _A post claims a COVID-19 vaccine has already ...  fake\n",
              "6418  6419  Aamir Khan Donate 250 Cr. In PM Relief Cares Fund  fake\n",
              "6419  6420  It has been 93 days since the last case of COV...  real\n",
              "\n",
              "[6420 rows x 3 columns]"
            ]
          },
          "execution_count": 40,
          "metadata": {},
          "output_type": "execute_result"
        }
      ],
      "source": [
        "import pandas as pd\n",
        "import numpy as np\n",
        "from sklearn import svm \n",
        "from sklearn.model_selection import train_test_split, cross_validate, cross_val_score, GridSearchCV, RepeatedStratifiedKFold, StratifiedKFold, RepeatedKFold, LeaveOneOut, KFold, StratifiedShuffleSplit\n",
        "from sklearn import preprocessing\n",
        "from sklearn.metrics import accuracy_score, roc_auc_score, precision_score, recall_score, f1_score, make_scorer, plot_confusion_matrix, confusion_matrix\n",
        "from sklearn.feature_extraction.text import TfidfVectorizer, CountVectorizer\n",
        "\n",
        "df = pd.read_csv('Constraint_English_Train.csv')\n",
        "\n",
        "df.label.value_counts()\n",
        "df"
      ]
    },
    {
      "cell_type": "code",
      "execution_count": null,
      "metadata": {
        "id": "WoY_jIvEU3is",
        "outputId": "c299ddca-b866-4c50-b3be-498374ab1d40"
      },
      "outputs": [
        {
          "data": {
            "text/html": [
              "<div>\n",
              "<style scoped>\n",
              "    .dataframe tbody tr th:only-of-type {\n",
              "        vertical-align: middle;\n",
              "    }\n",
              "\n",
              "    .dataframe tbody tr th {\n",
              "        vertical-align: top;\n",
              "    }\n",
              "\n",
              "    .dataframe thead th {\n",
              "        text-align: right;\n",
              "    }\n",
              "</style>\n",
              "<table border=\"1\" class=\"dataframe\">\n",
              "  <thead>\n",
              "    <tr style=\"text-align: right;\">\n",
              "      <th></th>\n",
              "      <th>id</th>\n",
              "      <th>tweet</th>\n",
              "      <th>label</th>\n",
              "      <th>label_bool</th>\n",
              "    </tr>\n",
              "  </thead>\n",
              "  <tbody>\n",
              "    <tr>\n",
              "      <th>0</th>\n",
              "      <td>1</td>\n",
              "      <td>The CDC currently reports 99031 deaths. In gen...</td>\n",
              "      <td>real</td>\n",
              "      <td>1</td>\n",
              "    </tr>\n",
              "    <tr>\n",
              "      <th>1</th>\n",
              "      <td>2</td>\n",
              "      <td>States reported 1121 deaths a small rise from ...</td>\n",
              "      <td>real</td>\n",
              "      <td>1</td>\n",
              "    </tr>\n",
              "    <tr>\n",
              "      <th>2</th>\n",
              "      <td>3</td>\n",
              "      <td>Politically Correct Woman (Almost) Uses Pandem...</td>\n",
              "      <td>fake</td>\n",
              "      <td>0</td>\n",
              "    </tr>\n",
              "    <tr>\n",
              "      <th>3</th>\n",
              "      <td>4</td>\n",
              "      <td>#IndiaFightsCorona: We have 1524 #COVID testin...</td>\n",
              "      <td>real</td>\n",
              "      <td>1</td>\n",
              "    </tr>\n",
              "    <tr>\n",
              "      <th>4</th>\n",
              "      <td>5</td>\n",
              "      <td>Populous states can generate large case counts...</td>\n",
              "      <td>real</td>\n",
              "      <td>1</td>\n",
              "    </tr>\n",
              "    <tr>\n",
              "      <th>...</th>\n",
              "      <td>...</td>\n",
              "      <td>...</td>\n",
              "      <td>...</td>\n",
              "      <td>...</td>\n",
              "    </tr>\n",
              "    <tr>\n",
              "      <th>6415</th>\n",
              "      <td>6416</td>\n",
              "      <td>A tiger tested positive for COVID-19 please st...</td>\n",
              "      <td>fake</td>\n",
              "      <td>0</td>\n",
              "    </tr>\n",
              "    <tr>\n",
              "      <th>6416</th>\n",
              "      <td>6417</td>\n",
              "      <td>???Autopsies prove that COVID-19 is??� a blood...</td>\n",
              "      <td>fake</td>\n",
              "      <td>0</td>\n",
              "    </tr>\n",
              "    <tr>\n",
              "      <th>6417</th>\n",
              "      <td>6418</td>\n",
              "      <td>_A post claims a COVID-19 vaccine has already ...</td>\n",
              "      <td>fake</td>\n",
              "      <td>0</td>\n",
              "    </tr>\n",
              "    <tr>\n",
              "      <th>6418</th>\n",
              "      <td>6419</td>\n",
              "      <td>Aamir Khan Donate 250 Cr. In PM Relief Cares Fund</td>\n",
              "      <td>fake</td>\n",
              "      <td>0</td>\n",
              "    </tr>\n",
              "    <tr>\n",
              "      <th>6419</th>\n",
              "      <td>6420</td>\n",
              "      <td>It has been 93 days since the last case of COV...</td>\n",
              "      <td>real</td>\n",
              "      <td>1</td>\n",
              "    </tr>\n",
              "  </tbody>\n",
              "</table>\n",
              "<p>6420 rows × 4 columns</p>\n",
              "</div>"
            ],
            "text/plain": [
              "        id                                              tweet label  \\\n",
              "0        1  The CDC currently reports 99031 deaths. In gen...  real   \n",
              "1        2  States reported 1121 deaths a small rise from ...  real   \n",
              "2        3  Politically Correct Woman (Almost) Uses Pandem...  fake   \n",
              "3        4  #IndiaFightsCorona: We have 1524 #COVID testin...  real   \n",
              "4        5  Populous states can generate large case counts...  real   \n",
              "...    ...                                                ...   ...   \n",
              "6415  6416  A tiger tested positive for COVID-19 please st...  fake   \n",
              "6416  6417  ???Autopsies prove that COVID-19 is??� a blood...  fake   \n",
              "6417  6418  _A post claims a COVID-19 vaccine has already ...  fake   \n",
              "6418  6419  Aamir Khan Donate 250 Cr. In PM Relief Cares Fund  fake   \n",
              "6419  6420  It has been 93 days since the last case of COV...  real   \n",
              "\n",
              "      label_bool  \n",
              "0              1  \n",
              "1              1  \n",
              "2              0  \n",
              "3              1  \n",
              "4              1  \n",
              "...          ...  \n",
              "6415           0  \n",
              "6416           0  \n",
              "6417           0  \n",
              "6418           0  \n",
              "6419           1  \n",
              "\n",
              "[6420 rows x 4 columns]"
            ]
          },
          "execution_count": 2,
          "metadata": {},
          "output_type": "execute_result"
        }
      ],
      "source": [
        "# create column with labels as boolean\n",
        "label_bool = {'fake': 0,\n",
        "            'real': 1}\n",
        "\n",
        "df['label_bool'] = df['label'].map(label_bool)\n",
        "df"
      ]
    },
    {
      "cell_type": "code",
      "execution_count": null,
      "metadata": {
        "id": "pFsJhrYXU3it"
      },
      "outputs": [],
      "source": [
        "# Function for text preprocessing\n",
        "\n",
        "#! pip install beautifulsoup4\n",
        "# !pip install spacy\n",
        "# !python -m spacy download en_core_web_sm\n",
        "# nltk.download('words')\n",
        "# nltk.download('stopwords')\n",
        "\n",
        "# Function for text preprocessing\n",
        "import string\n",
        "import re\n",
        "import nltk\n",
        "from nltk.corpus import words\n",
        "from nltk.corpus import wordnet\n",
        "from nltk.corpus import stopwords\n",
        "from nltk.stem.snowball import SnowballStemmer\n",
        "#from bs4 import BeautifulSoup\n",
        "import spacy\n",
        "\n",
        "# set puncuation and stopwords into one list\n",
        "punctuation = list(string.punctuation)\n",
        "# punctuation.remove('-')\n",
        "\n",
        "# english stopwords\n",
        "stopwords = nltk.corpus.stopwords.words('english')\n",
        "\n",
        "# load spaCY english language\n",
        "nlp = spacy.load('en_core_web_sm')\n",
        "\n",
        "# Snowball Stemmer\n",
        "stemmer = SnowballStemmer('english')\n",
        "\n",
        "\n",
        "def preprocess(df, s_column, t_column, lemmatize=False, stem=False):\n",
        "    \n",
        "    # df: DataFrame\n",
        "    # s_column: source column. The one that is to be processed\n",
        "    # t_column: target column. The one created with the preprocessed text\n",
        "    \n",
        "    # lowercase\n",
        "    \n",
        "    df[t_column] = df[s_column].str.lower()\n",
        "    \n",
        "    # removes specials characters and leaves only words\n",
        "    #df[t_column] = df[t_column].apply(lambda x : (re.sub('\\W_',' ', x)))\n",
        "    \n",
        "     # remove whitespaces\n",
        "    df[t_column] = df[t_column].apply(lambda x : ( re.sub(' +', ' ', x)))\n",
        "    \n",
        "#     # remove - \n",
        "#     df[t_column] = df[t_column].apply(lambda x : ( re.sub('-', ' ', x)))\n",
        "    \n",
        "    # remove HTML Tags\n",
        "    #df[t_column] = df[t_column].apply(lambda x : BeautifulSoup(x,'html.parser').get_text())\n",
        "    \n",
        "    # remove numbers and words concatenated with numbers IE h4ck3r. Removes road names such as BR-381.\n",
        "    df[t_column] = df[t_column].apply(lambda x : (re.sub(\"\\S*\\d\\S*\",\" \", x)))\n",
        "    \n",
        "    # removes emails and mentions (words with @)\n",
        "    df[t_column] = df[t_column].apply(lambda x : (re.sub(\"\\S*@\\S*\\s?\",\" \", x)))\n",
        "    \n",
        "    # remove url \n",
        "    df[t_column] = df[t_column].apply(lambda x : ( re.sub(r'http\\S+|www.\\S+', r'', x)))\n",
        "    \n",
        "    if lemmatize == True:\n",
        "        df[t_column] = df[t_column].apply(lambda x: ' '.join([w.lemma_ for w in nlp(x)]))\n",
        "    \n",
        "    # remove words with less than 3 letters \n",
        "    df[t_column] = df[t_column].apply(lambda x : (re.sub(r'\\b\\w{1,2}\\b', '', x)))\n",
        "    \n",
        "    # remove noise (e.g. numbers, symbols)\n",
        "    #df[t_column] = df[t_column].apply(lambda x : (re.sub('[^a-z\\s]', ' ',x)))\n",
        "    \n",
        "    # remove punctuation\n",
        "    df[t_column] = df[t_column].apply(lambda x: ''.join([word for word in x if word not in (punctuation)]))\n",
        "    \n",
        "    # remove words with 14 or more letters\n",
        "    df[t_column] = df[t_column].apply(lambda x : (re.sub(r'\\b\\w{14,1000}\\b', '', x)))\n",
        "    \n",
        "    # remove non-english words\n",
        "    #df[t_column] = df[t_column].apply(lambda x: ' '.join([word for word in nltk.wordpunct_tokenize(x) if word in eng_words_full or not word.isalpha()]))\n",
        "    \n",
        "        \n",
        "    # stem every word\n",
        "    if stem == True:\n",
        "        # remove stopwords\n",
        "        df[t_column] = df[t_column].apply(lambda x: ([word for word in x.split() if word not in (stopwords)]))\n",
        "        \n",
        "        # stemmer\n",
        "        df[t_column] = df[t_column].apply(lambda x: ', '.join([stemmer.stem(y) for y in x])) \n",
        "    \n",
        "    else:\n",
        "        # remove stopwords\n",
        "        df[t_column] = df[t_column].apply(lambda x: ', '.join([word for word in x.split() if word not in (stopwords)]))\n",
        "        \n",
        "    return df\n",
        "    "
      ]
    },
    {
      "cell_type": "code",
      "execution_count": null,
      "metadata": {
        "id": "qP2hCUzJU3ix",
        "outputId": "37608630-53aa-40da-e889-d08ed7006fb3"
      },
      "outputs": [
        {
          "data": {
            "text/html": [
              "<div>\n",
              "<style scoped>\n",
              "    .dataframe tbody tr th:only-of-type {\n",
              "        vertical-align: middle;\n",
              "    }\n",
              "\n",
              "    .dataframe tbody tr th {\n",
              "        vertical-align: top;\n",
              "    }\n",
              "\n",
              "    .dataframe thead th {\n",
              "        text-align: right;\n",
              "    }\n",
              "</style>\n",
              "<table border=\"1\" class=\"dataframe\">\n",
              "  <thead>\n",
              "    <tr style=\"text-align: right;\">\n",
              "      <th></th>\n",
              "      <th>id</th>\n",
              "      <th>tweet</th>\n",
              "      <th>label</th>\n",
              "      <th>label_bool</th>\n",
              "      <th>tokens</th>\n",
              "    </tr>\n",
              "  </thead>\n",
              "  <tbody>\n",
              "    <tr>\n",
              "      <th>0</th>\n",
              "      <td>1</td>\n",
              "      <td>The CDC currently reports 99031 deaths. In gen...</td>\n",
              "      <td>real</td>\n",
              "      <td>1</td>\n",
              "      <td>cdc, currently, report, death, general, discre...</td>\n",
              "    </tr>\n",
              "    <tr>\n",
              "      <th>1</th>\n",
              "      <td>2</td>\n",
              "      <td>States reported 1121 deaths a small rise from ...</td>\n",
              "      <td>real</td>\n",
              "      <td>1</td>\n",
              "      <td>state, report, death, small, rise, last, tuesd...</td>\n",
              "    </tr>\n",
              "    <tr>\n",
              "      <th>2</th>\n",
              "      <td>3</td>\n",
              "      <td>Politically Correct Woman (Almost) Uses Pandem...</td>\n",
              "      <td>fake</td>\n",
              "      <td>0</td>\n",
              "      <td>politically, correct, woman, almost, use, pand...</td>\n",
              "    </tr>\n",
              "    <tr>\n",
              "      <th>3</th>\n",
              "      <td>4</td>\n",
              "      <td>#IndiaFightsCorona: We have 1524 #COVID testin...</td>\n",
              "      <td>real</td>\n",
              "      <td>1</td>\n",
              "      <td>covid, testing, laboratory, india, august, tes...</td>\n",
              "    </tr>\n",
              "    <tr>\n",
              "      <th>4</th>\n",
              "      <td>5</td>\n",
              "      <td>Populous states can generate large case counts...</td>\n",
              "      <td>real</td>\n",
              "      <td>1</td>\n",
              "      <td>populous, state, generate, large, case, count,...</td>\n",
              "    </tr>\n",
              "    <tr>\n",
              "      <th>...</th>\n",
              "      <td>...</td>\n",
              "      <td>...</td>\n",
              "      <td>...</td>\n",
              "      <td>...</td>\n",
              "      <td>...</td>\n",
              "    </tr>\n",
              "    <tr>\n",
              "      <th>6415</th>\n",
              "      <td>6416</td>\n",
              "      <td>A tiger tested positive for COVID-19 please st...</td>\n",
              "      <td>fake</td>\n",
              "      <td>0</td>\n",
              "      <td>tiger, test, positive, please, stay, away, pet...</td>\n",
              "    </tr>\n",
              "    <tr>\n",
              "      <th>6416</th>\n",
              "      <td>6417</td>\n",
              "      <td>???Autopsies prove that COVID-19 is??� a blood...</td>\n",
              "      <td>fake</td>\n",
              "      <td>0</td>\n",
              "      <td>autopsy, prove, �, blood, clot, pneumonia, oug...</td>\n",
              "    </tr>\n",
              "    <tr>\n",
              "      <th>6417</th>\n",
              "      <td>6418</td>\n",
              "      <td>_A post claims a COVID-19 vaccine has already ...</td>\n",
              "      <td>fake</td>\n",
              "      <td>0</td>\n",
              "      <td>post, claim, vaccine, already, develop, cause,...</td>\n",
              "    </tr>\n",
              "    <tr>\n",
              "      <th>6418</th>\n",
              "      <td>6419</td>\n",
              "      <td>Aamir Khan Donate 250 Cr. In PM Relief Cares Fund</td>\n",
              "      <td>fake</td>\n",
              "      <td>0</td>\n",
              "      <td>aamir, khan, donate, relief, care, fund</td>\n",
              "    </tr>\n",
              "    <tr>\n",
              "      <th>6419</th>\n",
              "      <td>6420</td>\n",
              "      <td>It has been 93 days since the last case of COV...</td>\n",
              "      <td>real</td>\n",
              "      <td>1</td>\n",
              "      <td>day, since, last, case, acquire, locally, unkn...</td>\n",
              "    </tr>\n",
              "  </tbody>\n",
              "</table>\n",
              "<p>6420 rows × 5 columns</p>\n",
              "</div>"
            ],
            "text/plain": [
              "        id                                              tweet label  \\\n",
              "0        1  The CDC currently reports 99031 deaths. In gen...  real   \n",
              "1        2  States reported 1121 deaths a small rise from ...  real   \n",
              "2        3  Politically Correct Woman (Almost) Uses Pandem...  fake   \n",
              "3        4  #IndiaFightsCorona: We have 1524 #COVID testin...  real   \n",
              "4        5  Populous states can generate large case counts...  real   \n",
              "...    ...                                                ...   ...   \n",
              "6415  6416  A tiger tested positive for COVID-19 please st...  fake   \n",
              "6416  6417  ???Autopsies prove that COVID-19 is??� a blood...  fake   \n",
              "6417  6418  _A post claims a COVID-19 vaccine has already ...  fake   \n",
              "6418  6419  Aamir Khan Donate 250 Cr. In PM Relief Cares Fund  fake   \n",
              "6419  6420  It has been 93 days since the last case of COV...  real   \n",
              "\n",
              "      label_bool                                             tokens  \n",
              "0              1  cdc, currently, report, death, general, discre...  \n",
              "1              1  state, report, death, small, rise, last, tuesd...  \n",
              "2              0  politically, correct, woman, almost, use, pand...  \n",
              "3              1  covid, testing, laboratory, india, august, tes...  \n",
              "4              1  populous, state, generate, large, case, count,...  \n",
              "...          ...                                                ...  \n",
              "6415           0  tiger, test, positive, please, stay, away, pet...  \n",
              "6416           0  autopsy, prove, �, blood, clot, pneumonia, oug...  \n",
              "6417           0  post, claim, vaccine, already, develop, cause,...  \n",
              "6418           0            aamir, khan, donate, relief, care, fund  \n",
              "6419           1  day, since, last, case, acquire, locally, unkn...  \n",
              "\n",
              "[6420 rows x 5 columns]"
            ]
          },
          "execution_count": 6,
          "metadata": {},
          "output_type": "execute_result"
        }
      ],
      "source": [
        "preprocess(df, 'tweet', 'tokens', lemmatize=True)"
      ]
    },
    {
      "cell_type": "code",
      "execution_count": null,
      "metadata": {
        "id": "T1f5PzTeU3iy",
        "outputId": "bc49a523-d3ce-4132-b62a-5fca9d7b633e"
      },
      "outputs": [
        {
          "data": {
            "image/png": "[encoded data removed]",
            "text/plain": [
              "<Figure size 1600x600 with 2 Axes>"
            ]
          },
          "metadata": {},
          "output_type": "display_data"
        }
      ],
      "source": [
        "# plot labels count\n",
        "import matplotlib.pyplot as plt\n",
        "import seaborn as sns\n",
        "sns.set(style=\"whitegrid\")\n",
        "fig, axes = plt.subplots(ncols=2, \n",
        "                         nrows=1, \n",
        "                         figsize=(16, 6), \n",
        "                         dpi=100)\n",
        "fig.subplots_adjust(top=0.9, wspace=0.25)\n",
        "\n",
        "g = sns.countplot(x=df['label'], ax=axes[0],  \n",
        "              order=['real', 'fake'])\n",
        "\n",
        "labels=['real', 'fake']\n",
        "\n",
        "# add annotations to bar chart\n",
        "for bar in g.patches:\n",
        "    g.annotate(format(bar.get_height(), '.0f'),  # the number before f represents the decimals \n",
        "                   (bar.get_x() + bar.get_width() / 2,  \n",
        "                    bar.get_height()), ha='center', va='center', \n",
        "                   size=14, xytext=(0, 6), \n",
        "                   textcoords='offset points')\n",
        "\n",
        "axes[1].pie(df['label'].value_counts(),\n",
        "            labels=labels,\n",
        "            autopct='%1.0f%%',\n",
        "            shadow=True,\n",
        "            startangle=90,\n",
        "            explode = (0.1, 0.1))\n",
        "\n",
        "plt.tick_params(direction='out', axis='x', labelsize=20, length=6, width=2, grid_alpha=0.5)\n",
        "plt.xlabel('count',size=0) \n",
        "plt.ylabel('', size=0) \n",
        "\n",
        "sns.color_palette(\"pastel\")\n",
        " \n",
        "fig.suptitle('Distribution of Labels', fontsize=20)\n",
        "plt.show()"
      ]
    },
    {
      "cell_type": "markdown",
      "metadata": {
        "id": "m4HMZHd9U3i0"
      },
      "source": [
        "### Feature Extraction"
      ]
    },
    {
      "cell_type": "code",
      "execution_count": null,
      "metadata": {
        "id": "mV5KR65tU3i2",
        "outputId": "d649bf03-9add-4975-9551-0677c5726415"
      },
      "outputs": [
        {
          "name": "stdout",
          "output_type": "stream",
          "text": [
            "Number of unigrams: 8669\n",
            "Number of unigrams and bigrams: 60722\n"
          ]
        }
      ],
      "source": [
        "# Vectorizers (Count and TF-IDF)\n",
        "from sklearn.feature_extraction.text import CountVectorizer, TfidfVectorizer\n",
        "\n",
        "# instantiate the vectorizer objects\n",
        "countvectorizer = CountVectorizer() \n",
        "countvectorizer_ngrams = CountVectorizer(ngram_range=(1, 2)) # with n-grams\n",
        "\n",
        "tfidfvectorizer = TfidfVectorizer(sublinear_tf=True)\n",
        "tfidfvectorizer_ngrams = TfidfVectorizer(ngram_range=(1, 2), sublinear_tf=True) # with n-grams\n",
        "\n",
        "\n",
        "# convert the documents into a matrix\n",
        "count = countvectorizer.fit_transform(df.tokens)\n",
        "count_ngrams = countvectorizer_ngrams.fit_transform(df.tokens) # with n-grams\n",
        "\n",
        "tfidf = tfidfvectorizer.fit_transform(df.tokens)\n",
        "tfidf_ngrams = tfidfvectorizer_ngrams.fit_transform(df.tokens) # with n-grams\n",
        "\n",
        "# getting the vocabulary of tokens\n",
        "count_tokens = countvectorizer.get_feature_names()\n",
        "count_ngrams_tokens = countvectorizer_ngrams.get_feature_names()\n",
        "tfidf_tokens = tfidfvectorizer.get_feature_names()\n",
        "tfidf_ngrams_tokens = tfidfvectorizer_ngrams.get_feature_names()\n",
        "\n",
        "# vector representation\n",
        "df_countvect = pd.DataFrame(data = count.toarray(),columns = count_tokens)\n",
        "df_tfidfvect = pd.DataFrame(data = tfidf.toarray(),columns = tfidf_tokens) # tf-idf\n",
        "\n",
        "# print(\"\\nTD-IDF Vectorizer\\n\")\n",
        "# print(tfidf)\n",
        "# print(tfidf_tokens)\n",
        "# df_tfidfvect\n",
        "#print(df_tfidfvect.shape)\n",
        "print('Number of unigrams:', len(count_tokens))\n",
        "print('Number of unigrams and bigrams:', len(tfidf_ngrams_tokens))"
      ]
    },
    {
      "cell_type": "markdown",
      "metadata": {
        "id": "kzrqB6TOU3i6"
      },
      "source": [
        "### Feature Selection with Chi-Square"
      ]
    },
    {
      "cell_type": "code",
      "execution_count": null,
      "metadata": {
        "id": "sqhHjhSeU3i8",
        "outputId": "d46b8f42-cf15-4af6-cbc6-db1fe46e6dd0"
      },
      "outputs": [
        {
          "data": {
            "text/plain": [
              "3000"
            ]
          },
          "execution_count": 9,
          "metadata": {},
          "output_type": "execute_result"
        }
      ],
      "source": [
        "\n",
        "from sklearn.feature_selection import SelectKBest\n",
        "from sklearn.feature_selection import chi2\n",
        "\n",
        "y = df['label_bool']\n",
        "\n",
        "#feature selection with Chi Square\n",
        "chi2_features = SelectKBest(chi2, k=3000)\n",
        "chi2_features_ngrams = SelectKBest(chi2, k=6500)\n",
        "\n",
        "\n",
        "X_count = chi2_features.fit_transform(count, y)\n",
        "X_count_ngrams = chi2_features_ngrams.fit_transform(count_ngrams, y)\n",
        "X_tfidf = chi2_features.fit_transform(tfidf, y)\n",
        "X_tfidf_ngrams = chi2_features_ngrams.fit_transform(tfidf_ngrams, y)\n",
        "\n",
        "\n",
        "# passing the different Xs into a dictionary as to be used later in fitting and scoring\n",
        "X_dict = {'X_count':X_count, 'X_count_ngrams':X_count_ngrams, \n",
        "        'X_tfidf':X_tfidf, 'X_tfidf_ngrams':X_tfidf_ngrams}\n",
        "\n",
        "X_count.shape[1]"
      ]
    },
    {
      "cell_type": "markdown",
      "metadata": {
        "id": "m9_qVSplU3i-"
      },
      "source": [
        "### Functions for cross-validation and GridSearch"
      ]
    },
    {
      "cell_type": "code",
      "execution_count": null,
      "metadata": {
        "id": "MevLim3wU3i-"
      },
      "outputs": [],
      "source": [
        "'''\n",
        "Custom function for classification scoring with Stratified K-fold validation.\n",
        "'''\n",
        "\n",
        "# Define the scoring metrics and the average methods\n",
        "scorer = {'accuracy': 'accuracy',\n",
        "          'roc_auc': make_scorer(roc_auc_score),\n",
        "           'precision': make_scorer(precision_score, zero_division=1),\n",
        "           'recall': make_scorer(recall_score),\n",
        "           'f1': make_scorer(f1_score)}\n",
        "\n",
        "# Stratified Repeated cross validation\n",
        "#cv = StratifiedKFold(n_splits=4, shuffle=True, random_state=42)\n",
        "#cv = StratifiedShuffleSplit(n_splits=5, test_size=0.2, random_state=42)\n",
        "cv = RepeatedStratifiedKFold(n_splits=4, n_repeats=25, random_state=42)\n",
        "#cv = LeaveOneOut()\n",
        "def cross_validation_scores(clf, X, y, scoring=scorer):\n",
        "    \n",
        "    '''\n",
        "    Defining a function for the cross-validation which returns the mean scores of each metric\n",
        "\n",
        "    clf: scikit-learn classification model\n",
        "    X: features (no labels)\n",
        "    y: labels\n",
        "    scoring: a dictionary of scoring metrics\n",
        "    '''\n",
        "    # Cross Validation with the stratified repeated cross validator\n",
        "    scores = cross_validate(clf, X, y, scoring=scorer, cv=cv, n_jobs=-1)\n",
        "\n",
        "    # Getting the mean score of each metric\n",
        "    # print('>%s %.3f (%.3f) \\n' % (name, np.mean(scores), np.std(scores)))\n",
        "    return {metric: (round(np.mean(scores), 3)\n",
        "                     , [round(np.std(scores), 3)]) for metric, scores in scores.items()}"
      ]
    },
    {
      "cell_type": "code",
      "execution_count": null,
      "metadata": {
        "id": "wDJdhBI8U3i_"
      },
      "outputs": [],
      "source": [
        "'''\n",
        "Function for scoring the classifiers with the previously defined cross validation scoring function, and\n",
        "for storing the scores into a Pandas Dataframa\n",
        "'''\n",
        "def report(clf, X, y, name='classifier'):\n",
        "\n",
        "    scores = cross_validation_scores(clf, X, y)\n",
        "\n",
        "    df = pd.DataFrame()\n",
        "    df = pd.DataFrame.from_dict([scores])\n",
        "    df['Classifier'] = name\n",
        "    df = df.set_index('Classifier')\n",
        "   # df = df.reset_index()\n",
        "    \n",
        "    return df"
      ]
    },
    {
      "cell_type": "code",
      "execution_count": null,
      "metadata": {
        "id": "LTseIAKRU3jA"
      },
      "outputs": [],
      "source": [
        "''''\n",
        "Function for finding the optimal parameters of the classifier using GrindSearchCV. \n",
        "In the scoring parameter I pass the scorer dict that I created for multiscoring. \n",
        "For the refit parameter, any score metric of the dict (i.e. accuracy, precision, recall, roc_auc) can be given.\n",
        "setting the previously defined stratified repeated cross validation as cv\n",
        "'''\n",
        "def optimal_params(clf, parameters, search_all=True, **kwargs):\n",
        "    gsc = GridSearchCV(clf, parameters, cv=cv, scoring=scorer, refit='accuracy', n_jobs=-1)\n",
        "    \n",
        "    '''\n",
        "    search_all: If True (default), the Grindsearch will search the parameters for every X. \n",
        "    If False, the user defines which X will be searched by Grindsearch. Use X=[]\n",
        "    '''\n",
        "    \n",
        "    # Fit as to get the results of the GridSearch\n",
        "    if search_all==True:\n",
        "        for key, X in X_dict.items(): \n",
        "            grid_result = gsc.fit(X, y)\n",
        "            \n",
        "            print(\"For {}: \" .format (key), grid_result.best_params_)\n",
        "    else:\n",
        "        X = kwargs.get('X')\n",
        "        for x in X:\n",
        "            grid_result = gsc.fit(x, y)\n",
        "        \n",
        "            print(grid_result.best_params_)"
      ]
    },
    {
      "cell_type": "markdown",
      "metadata": {
        "id": "GoLliNCTU3jB"
      },
      "source": [
        "## __Classifiers__"
      ]
    },
    {
      "cell_type": "markdown",
      "metadata": {
        "id": "HBI5RxUGU3jC"
      },
      "source": [
        "### Naive Bayes (Multinomial)"
      ]
    },
    {
      "cell_type": "code",
      "execution_count": null,
      "metadata": {
        "id": "5dk_Q4s2U3jE"
      },
      "outputs": [],
      "source": [
        "from sklearn.naive_bayes import MultinomialNB\n",
        "\n",
        "# Create a Naive Bayes Classifier as to use it with GrindSearchCV\n",
        "MNB = MultinomialNB()\n",
        "\n",
        "\n",
        "# Getting the parameters of the classifier\n",
        "#MNB.get_params()"
      ]
    },
    {
      "cell_type": "code",
      "execution_count": null,
      "metadata": {
        "id": "uwfoH_qDU3jF"
      },
      "outputs": [],
      "source": [
        "MNB_params_2 = {'alpha':(0.01, 0.1, 0.2, 0.3, 0.4, 0.5, 0.6, 0.7, 0.8, 0.9, 1.1, 1.2, 1.3, 1.4, 1.5),\n",
        "                 'fit_prior': (True, False)}"
      ]
    },
    {
      "cell_type": "code",
      "execution_count": null,
      "metadata": {
        "id": "9ewiJS_sU3jF",
        "outputId": "43135056-b397-484e-ff80-759139228bd2"
      },
      "outputs": [
        {
          "name": "stdout",
          "output_type": "stream",
          "text": [
            "{'alpha': 0.01, 'fit_prior': False}\n",
            "{'alpha': 0.01, 'fit_prior': False}\n"
          ]
        }
      ],
      "source": [
        "optimal_params(MNB, MNB_params_2, search_all=False, X=[X_tfidf, X_tfidf_ngrams])"
      ]
    },
    {
      "cell_type": "code",
      "execution_count": null,
      "metadata": {
        "id": "jj6aa31-U3jG"
      },
      "outputs": [],
      "source": [
        "# Creating the Naive Bayes Classifier with the optimal parameters\n",
        "# MNB_count = MultinomialNB(alpha=0.1, fit_prior=True)\n",
        "# MNB_count_ngrams = MultinomialNB(alpha=0.01, fit_prior=False)\n",
        "MNB_tfidf = MultinomialNB(alpha=0.01, fit_prior=False)\n",
        "MNB_tfidf_ngrams = MultinomialNB(alpha=0.01, fit_prior=False)"
      ]
    },
    {
      "cell_type": "code",
      "execution_count": null,
      "metadata": {
        "id": "mXwrYjDpU3jH",
        "outputId": "60e8de6c-fdd1-4540-f3d5-cd2037e76b30"
      },
      "outputs": [
        {
          "data": {
            "text/html": [
              "<div>\n",
              "<style scoped>\n",
              "    .dataframe tbody tr th:only-of-type {\n",
              "        vertical-align: middle;\n",
              "    }\n",
              "\n",
              "    .dataframe tbody tr th {\n",
              "        vertical-align: top;\n",
              "    }\n",
              "\n",
              "    .dataframe thead th {\n",
              "        text-align: right;\n",
              "    }\n",
              "</style>\n",
              "<table border=\"1\" class=\"dataframe\">\n",
              "  <thead>\n",
              "    <tr style=\"text-align: right;\">\n",
              "      <th></th>\n",
              "      <th>fit_time</th>\n",
              "      <th>score_time</th>\n",
              "      <th>test_accuracy</th>\n",
              "      <th>test_roc_auc</th>\n",
              "      <th>test_precision</th>\n",
              "      <th>test_recall</th>\n",
              "      <th>test_f1</th>\n",
              "    </tr>\n",
              "    <tr>\n",
              "      <th>Classifier</th>\n",
              "      <th></th>\n",
              "      <th></th>\n",
              "      <th></th>\n",
              "      <th></th>\n",
              "      <th></th>\n",
              "      <th></th>\n",
              "      <th></th>\n",
              "    </tr>\n",
              "  </thead>\n",
              "  <tbody>\n",
              "    <tr>\n",
              "      <th>MNB_tfidf_ngrams</th>\n",
              "      <td>(0.005, [0.007])</td>\n",
              "      <td>(0.008, [0.008])</td>\n",
              "      <td>(0.949, [0.005])</td>\n",
              "      <td>(0.949, [0.005])</td>\n",
              "      <td>(0.96, [0.007])</td>\n",
              "      <td>(0.942, [0.008])</td>\n",
              "      <td>(0.951, [0.005])</td>\n",
              "    </tr>\n",
              "    <tr>\n",
              "      <th>MNB_tfidf</th>\n",
              "      <td>(0.009, [0.008])</td>\n",
              "      <td>(0.011, [0.007])</td>\n",
              "      <td>(0.935, [0.005])</td>\n",
              "      <td>(0.934, [0.005])</td>\n",
              "      <td>(0.936, [0.007])</td>\n",
              "      <td>(0.94, [0.008])</td>\n",
              "      <td>(0.938, [0.005])</td>\n",
              "    </tr>\n",
              "  </tbody>\n",
              "</table>\n",
              "</div>"
            ],
            "text/plain": [
              "                          fit_time        score_time     test_accuracy  \\\n",
              "Classifier                                                               \n",
              "MNB_tfidf_ngrams  (0.005, [0.007])  (0.008, [0.008])  (0.949, [0.005])   \n",
              "MNB_tfidf         (0.009, [0.008])  (0.011, [0.007])  (0.935, [0.005])   \n",
              "\n",
              "                      test_roc_auc    test_precision       test_recall  \\\n",
              "Classifier                                                               \n",
              "MNB_tfidf_ngrams  (0.949, [0.005])   (0.96, [0.007])  (0.942, [0.008])   \n",
              "MNB_tfidf         (0.934, [0.005])  (0.936, [0.007])   (0.94, [0.008])   \n",
              "\n",
              "                           test_f1  \n",
              "Classifier                          \n",
              "MNB_tfidf_ngrams  (0.951, [0.005])  \n",
              "MNB_tfidf         (0.938, [0.005])  "
            ]
          },
          "execution_count": 16,
          "metadata": {},
          "output_type": "execute_result"
        }
      ],
      "source": [
        "# create a test dataframe in which all the scores will be stored\n",
        "df_results = pd.DataFrame()\n",
        "\n",
        "# scoring each version of the classifier\n",
        "# df_results = df_results.append(report(MNB_count, X_count, y, name='MNB_count'))\n",
        "# df_results = df_results.append(report(MNB_count_ngrams, X_count_ngrams, y, name='MNB_count_ngrams'))\n",
        "df_results = df_results.append(report(MNB_tfidf, X_tfidf, y, name='MNB_tfidf'))\n",
        "df_results = df_results.append(report(MNB_tfidf_ngrams, X_tfidf_ngrams, y, name='MNB_tfidf_ngrams'))\n",
        "\n",
        "df_results.sort_values(by=['test_accuracy'], ascending=False)"
      ]
    },
    {
      "cell_type": "code",
      "execution_count": null,
      "metadata": {
        "id": "QDZa6vNkU3jH"
      },
      "outputs": [],
      "source": [
        "from sklearn.pipeline import Pipeline\n",
        "def fit(words, y):\n",
        "    pipe = Pipeline([\n",
        "\n",
        "        #('preprocess', preprocess(df, 'tweet', 'tokens', lemmatize=True)),  \n",
        "        #('col_selector', ColumnSelector(cols=('tweet'),drop_axis=True)),\n",
        "        ('tfidf_ngrams', tfidfvectorizer_ngrams),\n",
        "        #('chi2_features_ngrams', chi2_features_ngrams),\n",
        "        ('MNB_tfidf_ngrams', MNB_tfidf_ngrams)\n",
        "    ])\n",
        "\n",
        "\n",
        "    return pipe.fit(words, y)\n"
      ]
    },
    {
      "cell_type": "code",
      "execution_count": null,
      "metadata": {
        "id": "1j71XxItU3jI"
      },
      "outputs": [],
      "source": [
        "model = fit(df.tokens, y)"
      ]
    },
    {
      "cell_type": "code",
      "execution_count": null,
      "metadata": {
        "id": "5rGvZctPU3jI",
        "outputId": "cd45c574-a6c0-49f0-91bf-0f129c173777"
      },
      "outputs": [
        {
          "data": {
            "text/plain": [
              "MultinomialNB(alpha=0.01, fit_prior=False)"
            ]
          },
          "execution_count": 29,
          "metadata": {},
          "output_type": "execute_result"
        }
      ],
      "source": [
        "MNB_tfidf_ngrams.fit(X_tfidf_ngrams, y)"
      ]
    },
    {
      "cell_type": "code",
      "execution_count": null,
      "metadata": {
        "id": "xunQB8qzU3jJ",
        "outputId": "5525e0a2-f49f-4054-a916-b9288428002a"
      },
      "outputs": [
        {
          "data": {
            "text/plain": [
              "['MNB_Covid_Tweets_Real_Fake.pkl']"
            ]
          },
          "execution_count": 62,
          "metadata": {},
          "output_type": "execute_result"
        }
      ],
      "source": [
        "# save model\n",
        "import joblib\n",
        " \n",
        "# Save the model as a pickle in a file\n",
        "joblib.dump(model, 'MNB_Covid_Tweets_Real_Fake.pkl')\n",
        " \n",
        "# # Load the model from the file\n",
        "# knn_from_joblib = joblib.load('filename.pkl')\n",
        " \n",
        "# # Use the loaded model to make predictions\n",
        "# knn_from_joblib.predict(X_test)"
      ]
    },
    {
      "cell_type": "code",
      "execution_count": null,
      "metadata": {
        "id": "hmw1By7bU3jK"
      },
      "outputs": [],
      "source": [
        "df_val = pd.read_csv('Constraint_English_Val.csv')"
      ]
    },
    {
      "cell_type": "code",
      "execution_count": null,
      "metadata": {
        "id": "AHeV3OH1U3jK",
        "outputId": "6c957411-1e17-4109-876b-f70fb4eedf2e"
      },
      "outputs": [
        {
          "data": {
            "text/html": [
              "<div>\n",
              "<style scoped>\n",
              "    .dataframe tbody tr th:only-of-type {\n",
              "        vertical-align: middle;\n",
              "    }\n",
              "\n",
              "    .dataframe tbody tr th {\n",
              "        vertical-align: top;\n",
              "    }\n",
              "\n",
              "    .dataframe thead th {\n",
              "        text-align: right;\n",
              "    }\n",
              "</style>\n",
              "<table border=\"1\" class=\"dataframe\">\n",
              "  <thead>\n",
              "    <tr style=\"text-align: right;\">\n",
              "      <th></th>\n",
              "      <th>id</th>\n",
              "      <th>tweet</th>\n",
              "      <th>label</th>\n",
              "      <th>tokens</th>\n",
              "    </tr>\n",
              "  </thead>\n",
              "  <tbody>\n",
              "    <tr>\n",
              "      <th>0</th>\n",
              "      <td>1</td>\n",
              "      <td>Chinese converting to Islam after realising th...</td>\n",
              "      <td>fake</td>\n",
              "      <td>chinese, convert, islam, realise, muslim, affe...</td>\n",
              "    </tr>\n",
              "    <tr>\n",
              "      <th>1</th>\n",
              "      <td>2</td>\n",
              "      <td>11 out of 13 people (from the Diamond Princess...</td>\n",
              "      <td>fake</td>\n",
              "      <td>people, diamond, princess, cruise, ship, intia...</td>\n",
              "    </tr>\n",
              "    <tr>\n",
              "      <th>2</th>\n",
              "      <td>3</td>\n",
              "      <td>COVID-19 Is Caused By A Bacterium, Not Virus A...</td>\n",
              "      <td>fake</td>\n",
              "      <td>cause, bacterium, virus, treat, aspirin</td>\n",
              "    </tr>\n",
              "    <tr>\n",
              "      <th>3</th>\n",
              "      <td>4</td>\n",
              "      <td>Mike Pence in RNC speech praises Donald Trump’...</td>\n",
              "      <td>fake</td>\n",
              "      <td>mike, pence, rnc, speech, praise, donald, trum...</td>\n",
              "    </tr>\n",
              "    <tr>\n",
              "      <th>4</th>\n",
              "      <td>5</td>\n",
              "      <td>6/10 Sky's @EdConwaySky explains the latest #C...</td>\n",
              "      <td>real</td>\n",
              "      <td>sky, explain, late, datum, government, announc...</td>\n",
              "    </tr>\n",
              "    <tr>\n",
              "      <th>...</th>\n",
              "      <td>...</td>\n",
              "      <td>...</td>\n",
              "      <td>...</td>\n",
              "      <td>...</td>\n",
              "    </tr>\n",
              "    <tr>\n",
              "      <th>2135</th>\n",
              "      <td>2136</td>\n",
              "      <td>Donald Trump wrongly claimed that New Zealand ...</td>\n",
              "      <td>fake</td>\n",
              "      <td>donald, trump, wrongly, claim, new, zealand, b...</td>\n",
              "    </tr>\n",
              "    <tr>\n",
              "      <th>2136</th>\n",
              "      <td>2137</td>\n",
              "      <td>Current understanding is #COVID19 spreads most...</td>\n",
              "      <td>real</td>\n",
              "      <td>current, understanding, spread, mostly, person...</td>\n",
              "    </tr>\n",
              "    <tr>\n",
              "      <th>2137</th>\n",
              "      <td>2138</td>\n",
              "      <td>Nothing screams “I am sat around doing fuck al...</td>\n",
              "      <td>fake</td>\n",
              "      <td>nothing, scream, sit, around, fuck, lockdown, ...</td>\n",
              "    </tr>\n",
              "    <tr>\n",
              "      <th>2138</th>\n",
              "      <td>2139</td>\n",
              "      <td>Birx says COVID-19 outbreak not under control ...</td>\n",
              "      <td>fake</td>\n",
              "      <td>birx, say, outbreak, control, people, move</td>\n",
              "    </tr>\n",
              "    <tr>\n",
              "      <th>2139</th>\n",
              "      <td>2140</td>\n",
              "      <td>Another 4422 new coronavirus cases have been c...</td>\n",
              "      <td>real</td>\n",
              "      <td>another, new, coronavirus, case, confirm, high...</td>\n",
              "    </tr>\n",
              "  </tbody>\n",
              "</table>\n",
              "<p>2140 rows × 4 columns</p>\n",
              "</div>"
            ],
            "text/plain": [
              "        id                                              tweet label  \\\n",
              "0        1  Chinese converting to Islam after realising th...  fake   \n",
              "1        2  11 out of 13 people (from the Diamond Princess...  fake   \n",
              "2        3  COVID-19 Is Caused By A Bacterium, Not Virus A...  fake   \n",
              "3        4  Mike Pence in RNC speech praises Donald Trump’...  fake   \n",
              "4        5  6/10 Sky's @EdConwaySky explains the latest #C...  real   \n",
              "...    ...                                                ...   ...   \n",
              "2135  2136  Donald Trump wrongly claimed that New Zealand ...  fake   \n",
              "2136  2137  Current understanding is #COVID19 spreads most...  real   \n",
              "2137  2138  Nothing screams “I am sat around doing fuck al...  fake   \n",
              "2138  2139  Birx says COVID-19 outbreak not under control ...  fake   \n",
              "2139  2140  Another 4422 new coronavirus cases have been c...  real   \n",
              "\n",
              "                                                 tokens  \n",
              "0     chinese, convert, islam, realise, muslim, affe...  \n",
              "1     people, diamond, princess, cruise, ship, intia...  \n",
              "2               cause, bacterium, virus, treat, aspirin  \n",
              "3     mike, pence, rnc, speech, praise, donald, trum...  \n",
              "4     sky, explain, late, datum, government, announc...  \n",
              "...                                                 ...  \n",
              "2135  donald, trump, wrongly, claim, new, zealand, b...  \n",
              "2136  current, understanding, spread, mostly, person...  \n",
              "2137  nothing, scream, sit, around, fuck, lockdown, ...  \n",
              "2138         birx, say, outbreak, control, people, move  \n",
              "2139  another, new, coronavirus, case, confirm, high...  \n",
              "\n",
              "[2140 rows x 4 columns]"
            ]
          },
          "execution_count": 21,
          "metadata": {},
          "output_type": "execute_result"
        }
      ],
      "source": [
        "preprocess(df_val, 'tweet', 'tokens', lemmatize=True)"
      ]
    },
    {
      "cell_type": "code",
      "execution_count": null,
      "metadata": {
        "id": "WNH1GBhjU3jK",
        "outputId": "7de4cfb5-0f91-4dea-b5ef-a49ec8b8efaf"
      },
      "outputs": [
        {
          "data": {
            "text/html": [
              "<div>\n",
              "<style scoped>\n",
              "    .dataframe tbody tr th:only-of-type {\n",
              "        vertical-align: middle;\n",
              "    }\n",
              "\n",
              "    .dataframe tbody tr th {\n",
              "        vertical-align: top;\n",
              "    }\n",
              "\n",
              "    .dataframe thead th {\n",
              "        text-align: right;\n",
              "    }\n",
              "</style>\n",
              "<table border=\"1\" class=\"dataframe\">\n",
              "  <thead>\n",
              "    <tr style=\"text-align: right;\">\n",
              "      <th></th>\n",
              "      <th>id</th>\n",
              "      <th>tweet</th>\n",
              "      <th>label</th>\n",
              "      <th>tokens</th>\n",
              "      <th>label_bool</th>\n",
              "    </tr>\n",
              "  </thead>\n",
              "  <tbody>\n",
              "    <tr>\n",
              "      <th>0</th>\n",
              "      <td>1</td>\n",
              "      <td>Chinese converting to Islam after realising th...</td>\n",
              "      <td>fake</td>\n",
              "      <td>chinese, convert, islam, realise, muslim, affe...</td>\n",
              "      <td>0</td>\n",
              "    </tr>\n",
              "    <tr>\n",
              "      <th>1</th>\n",
              "      <td>2</td>\n",
              "      <td>11 out of 13 people (from the Diamond Princess...</td>\n",
              "      <td>fake</td>\n",
              "      <td>people, diamond, princess, cruise, ship, intia...</td>\n",
              "      <td>0</td>\n",
              "    </tr>\n",
              "    <tr>\n",
              "      <th>2</th>\n",
              "      <td>3</td>\n",
              "      <td>COVID-19 Is Caused By A Bacterium, Not Virus A...</td>\n",
              "      <td>fake</td>\n",
              "      <td>cause, bacterium, virus, treat, aspirin</td>\n",
              "      <td>0</td>\n",
              "    </tr>\n",
              "    <tr>\n",
              "      <th>3</th>\n",
              "      <td>4</td>\n",
              "      <td>Mike Pence in RNC speech praises Donald Trump’...</td>\n",
              "      <td>fake</td>\n",
              "      <td>mike, pence, rnc, speech, praise, donald, trum...</td>\n",
              "      <td>0</td>\n",
              "    </tr>\n",
              "    <tr>\n",
              "      <th>4</th>\n",
              "      <td>5</td>\n",
              "      <td>6/10 Sky's @EdConwaySky explains the latest #C...</td>\n",
              "      <td>real</td>\n",
              "      <td>sky, explain, late, datum, government, announc...</td>\n",
              "      <td>1</td>\n",
              "    </tr>\n",
              "    <tr>\n",
              "      <th>...</th>\n",
              "      <td>...</td>\n",
              "      <td>...</td>\n",
              "      <td>...</td>\n",
              "      <td>...</td>\n",
              "      <td>...</td>\n",
              "    </tr>\n",
              "    <tr>\n",
              "      <th>2135</th>\n",
              "      <td>2136</td>\n",
              "      <td>Donald Trump wrongly claimed that New Zealand ...</td>\n",
              "      <td>fake</td>\n",
              "      <td>donald, trump, wrongly, claim, new, zealand, b...</td>\n",
              "      <td>0</td>\n",
              "    </tr>\n",
              "    <tr>\n",
              "      <th>2136</th>\n",
              "      <td>2137</td>\n",
              "      <td>Current understanding is #COVID19 spreads most...</td>\n",
              "      <td>real</td>\n",
              "      <td>current, understanding, spread, mostly, person...</td>\n",
              "      <td>1</td>\n",
              "    </tr>\n",
              "    <tr>\n",
              "      <th>2137</th>\n",
              "      <td>2138</td>\n",
              "      <td>Nothing screams “I am sat around doing fuck al...</td>\n",
              "      <td>fake</td>\n",
              "      <td>nothing, scream, sit, around, fuck, lockdown, ...</td>\n",
              "      <td>0</td>\n",
              "    </tr>\n",
              "    <tr>\n",
              "      <th>2138</th>\n",
              "      <td>2139</td>\n",
              "      <td>Birx says COVID-19 outbreak not under control ...</td>\n",
              "      <td>fake</td>\n",
              "      <td>birx, say, outbreak, control, people, move</td>\n",
              "      <td>0</td>\n",
              "    </tr>\n",
              "    <tr>\n",
              "      <th>2139</th>\n",
              "      <td>2140</td>\n",
              "      <td>Another 4422 new coronavirus cases have been c...</td>\n",
              "      <td>real</td>\n",
              "      <td>another, new, coronavirus, case, confirm, high...</td>\n",
              "      <td>1</td>\n",
              "    </tr>\n",
              "  </tbody>\n",
              "</table>\n",
              "<p>2140 rows × 5 columns</p>\n",
              "</div>"
            ],
            "text/plain": [
              "        id                                              tweet label  \\\n",
              "0        1  Chinese converting to Islam after realising th...  fake   \n",
              "1        2  11 out of 13 people (from the Diamond Princess...  fake   \n",
              "2        3  COVID-19 Is Caused By A Bacterium, Not Virus A...  fake   \n",
              "3        4  Mike Pence in RNC speech praises Donald Trump’...  fake   \n",
              "4        5  6/10 Sky's @EdConwaySky explains the latest #C...  real   \n",
              "...    ...                                                ...   ...   \n",
              "2135  2136  Donald Trump wrongly claimed that New Zealand ...  fake   \n",
              "2136  2137  Current understanding is #COVID19 spreads most...  real   \n",
              "2137  2138  Nothing screams “I am sat around doing fuck al...  fake   \n",
              "2138  2139  Birx says COVID-19 outbreak not under control ...  fake   \n",
              "2139  2140  Another 4422 new coronavirus cases have been c...  real   \n",
              "\n",
              "                                                 tokens  label_bool  \n",
              "0     chinese, convert, islam, realise, muslim, affe...           0  \n",
              "1     people, diamond, princess, cruise, ship, intia...           0  \n",
              "2               cause, bacterium, virus, treat, aspirin           0  \n",
              "3     mike, pence, rnc, speech, praise, donald, trum...           0  \n",
              "4     sky, explain, late, datum, government, announc...           1  \n",
              "...                                                 ...         ...  \n",
              "2135  donald, trump, wrongly, claim, new, zealand, b...           0  \n",
              "2136  current, understanding, spread, mostly, person...           1  \n",
              "2137  nothing, scream, sit, around, fuck, lockdown, ...           0  \n",
              "2138         birx, say, outbreak, control, people, move           0  \n",
              "2139  another, new, coronavirus, case, confirm, high...           1  \n",
              "\n",
              "[2140 rows x 5 columns]"
            ]
          },
          "execution_count": 22,
          "metadata": {},
          "output_type": "execute_result"
        }
      ],
      "source": [
        "# create column with labels as boolean\n",
        "label_bool = {'fake': 0,\n",
        "            'real': 1}\n",
        "\n",
        "df_val['label_bool'] = df_val['label'].map(label_bool)\n",
        "df_val"
      ]
    },
    {
      "cell_type": "code",
      "execution_count": null,
      "metadata": {
        "id": "ZkRInGeUU3jL"
      },
      "outputs": [],
      "source": [
        "y_val = df_val['label_bool']"
      ]
    },
    {
      "cell_type": "code",
      "execution_count": null,
      "metadata": {
        "id": "H2l8qYKcU3jL"
      },
      "outputs": [],
      "source": [
        "# # Load the model from the file\n",
        "MNB_Covid_Tweets_Real_Fake = joblib.load('MNB_Covid_Tweets_Real_Fake.pkl')\n",
        " \n",
        "y_pred = MNB_Covid_Tweets_Real_Fake.predict(df_val.tokens)"
      ]
    },
    {
      "cell_type": "code",
      "execution_count": null,
      "metadata": {
        "id": "lKywwFiTU3jM",
        "outputId": "69906d6f-fa94-45fd-f1ed-73d88227ca98"
      },
      "outputs": [
        {
          "name": "stdout",
          "output_type": "stream",
          "text": [
            "[[ 934   86]\n",
            " [  84 1036]]\n"
          ]
        }
      ],
      "source": [
        "from sklearn.metrics import plot_confusion_matrix, confusion_matrix, classification_report\n",
        "print(confusion_matrix(y_val, y_pred))"
      ]
    },
    {
      "cell_type": "code",
      "execution_count": null,
      "metadata": {
        "id": "7cXdPvFTU3jM",
        "outputId": "8ed0f610-7fe4-4b8b-a348-31136b035eca"
      },
      "outputs": [
        {
          "name": "stdout",
          "output_type": "stream",
          "text": [
            "              precision    recall  f1-score   support\n",
            "\n",
            "           0       0.92      0.92      0.92      1020\n",
            "           1       0.92      0.93      0.92      1120\n",
            "\n",
            "    accuracy                           0.92      2140\n",
            "   macro avg       0.92      0.92      0.92      2140\n",
            "weighted avg       0.92      0.92      0.92      2140\n",
            "\n"
          ]
        }
      ],
      "source": [
        "report = classification_report(y_val, y_pred)\n",
        "print(report)"
      ]
    },
    {
      "cell_type": "code",
      "execution_count": null,
      "metadata": {
        "id": "qiEQaFiNU3jM",
        "outputId": "890248d7-aa73-4098-eb09-d335030a918c"
      },
      "outputs": [
        {
          "data": {
            "image/png": "[encoded data removed]",
            "text/plain": [
              "<Figure size 432x288 with 2 Axes>"
            ]
          },
          "metadata": {},
          "output_type": "display_data"
        }
      ],
      "source": [
        "import matplotlib.pyplot as plt\n",
        "import seaborn as sns\n",
        "plt.style.use(\"seaborn-deep\")\n",
        "plot_confusion_matrix(MNB_Covid_Tweets_Real_Fake, df_val.tokens, y_val)\n",
        "plt.show()"
      ]
    }
  ],
  "metadata": {
    "environment": {
      "name": "common-cu100.m65",
      "type": "gcloud",
      "uri": "gcr.io/deeplearning-platform-release/base-cu100:m65"
    },
    "kernelspec": {
      "display_name": "Python 3 (ipykernel)",
      "language": "python",
      "name": "python3"
    },
    "language_info": {
      "codemirror_mode": {
        "name": "ipython",
        "version": 3
      },
      "file_extension": ".py",
      "mimetype": "text/x-python",
      "name": "python",
      "nbconvert_exporter": "python",
      "pygments_lexer": "ipython3",
      "version": "3.9.7"
    },
    "colab": {
      "name": "covid_tweets_real_fake_detection_ML.ipynb",
      "provenance": [],
      "include_colab_link": true
    }
  },
  "nbformat": 4,
  "nbformat_minor": 0
}